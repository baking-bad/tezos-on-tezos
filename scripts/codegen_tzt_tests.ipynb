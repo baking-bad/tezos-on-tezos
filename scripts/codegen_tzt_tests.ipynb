{
 "cells": [
  {
   "cell_type": "code",
   "execution_count": 2,
   "id": "400decf2",
   "metadata": {},
   "outputs": [],
   "source": [
    "import pexpect\n",
    "import simplejson as json\n",
    "from os import makedirs\n",
    "from os.path import basename, splitext, dirname, join, exists\n",
    "from glob import glob\n",
    "from pytezos.michelson.parse import MichelsonParser, michelson_to_micheline"
   ]
  },
  {
   "cell_type": "code",
   "execution_count": 9,
   "id": "8feba69a",
   "metadata": {},
   "outputs": [],
   "source": [
    "project_dir = dirname(globals()['_dh'][0])\n",
    "tests_dir = join(project_dir, 'vm', 'tests')\n",
    "data_dir = join(tests_dir, 'data')\n",
    "tzt_dir = '/tmp/tzt'"
   ]
  },
  {
   "cell_type": "code",
   "execution_count": 11,
   "id": "14e8342e",
   "metadata": {},
   "outputs": [],
   "source": [
    "makedirs(data_dir, exist_ok=True)"
   ]
  },
  {
   "cell_type": "code",
   "execution_count": 14,
   "id": "958accb6",
   "metadata": {},
   "outputs": [],
   "source": [
    "if not exists(tzt_dir):\n",
    "    pexpect.run(f'git clone https://gitlab.com/tezos/tzt-reference-test-suite.git {tzt_dir}')"
   ]
  },
  {
   "cell_type": "code",
   "execution_count": 15,
   "id": "0a6de718",
   "metadata": {},
   "outputs": [],
   "source": [
    "header = \"\"\"mod runner;\n",
    "\n",
    "use tezos_vm::Result;\n",
    "use runner::tzt::TZT;\n",
    "\"\"\"\n",
    "\n",
    "test_case = \"\"\"\n",
    "#[test]\n",
    "fn {name}() -> Result<()> {{\n",
    "    TZT::load(\"{path}\")?.run()\n",
    "}}\n",
    "\"\"\""
   ]
  },
  {
   "cell_type": "code",
   "execution_count": 16,
   "id": "44da0855",
   "metadata": {},
   "outputs": [],
   "source": [
    "ignore = [\n",
    "    '/tmp/tzt/setdelegate_00.tzt',\n",
    "    '/tmp/tzt/transfertokens_00.tzt',\n",
    "    '/tmp/tzt/transfertokens_01.tzt',\n",
    "    '/tmp/tzt/createcontract_00.tzt',\n",
    "    '/tmp/tzt/createcontract_01.tzt',\n",
    "]\n",
    "# TODO: replace '_' with something that can be parsed with the current grammar\n",
    "# NOTE: compare_timestamp(00, 01, 02), sub_timestamp_int(04) have incorrect value type (string instead of int)\n",
    "# NOTE: no need for 'other_contract' section in case of an implicit account"
   ]
  },
  {
   "cell_type": "code",
   "execution_count": 17,
   "id": "dc211ea3",
   "metadata": {},
   "outputs": [],
   "source": [
    "parser = MichelsonParser(extra_primitives=[\n",
    "    'Contract', 'other_contracts', 'GeneralOverflow', 'Failed', 'MutezUnderflow', 'MutezOverflow'\n",
    "])\n",
    "new = {}\n",
    "sections = [header]\n",
    "for filename in glob(f'{tzt_dir}/*.tzt'):\n",
    "    # print(filename)\n",
    "    if filename in ignore:\n",
    "        continue\n",
    "    with open(filename) as f:\n",
    "        name = splitext(basename(filename))[0].replace('-', '_')\n",
    "        category = name.split('_')[0]\n",
    "        full_name = f'tzt_{name}'\n",
    "        file_json = join(data_dir, 'tzt', f'{full_name}.json')\n",
    "        if not exists(file_json):\n",
    "            src = michelson_to_micheline(f.read(), parser=parser)\n",
    "            tzt = json.dumps(src, indent=2, sort_keys=True)\n",
    "            with open(file_json, 'w') as fj:\n",
    "                fj.write(tzt)\n",
    "              \n",
    "        sections.append(test_case.format(name=full_name, path=f'{full_name}.json'))\n",
    "                \n",
    "#         file_rs = join(tests_dir, f'tzt_{category}.rs')\n",
    "#         if not exists(file_rs):\n",
    "#             new[file_rs] = True\n",
    "#             with open(file_rs, 'w') as fr:\n",
    "#                 fr.write(header)\n",
    "#                 fr.write(test_case.format(name=full_name, path=f'{full_name}.json'))\n",
    "#         elif new.get(file_rs):\n",
    "#             with open(file_rs, 'a') as fr:\n",
    "#                 fr.write(test_case.format(name=full_name, path=f'{full_name}.json'))"
   ]
  },
  {
   "cell_type": "code",
   "execution_count": 18,
   "id": "ee1ece8f",
   "metadata": {},
   "outputs": [],
   "source": [
    "with open(join(tests_dir, f'tzt.rs'), 'w') as f:\n",
    "    f.write(''.join(sections))"
   ]
  },
  {
   "cell_type": "code",
   "execution_count": null,
   "id": "716ae490",
   "metadata": {},
   "outputs": [],
   "source": []
  }
 ],
 "metadata": {
  "kernelspec": {
   "display_name": "Python 3 (ipykernel)",
   "language": "python",
   "name": "python3"
  },
  "language_info": {
   "codemirror_mode": {
    "name": "ipython",
    "version": 3
   },
   "file_extension": ".py",
   "mimetype": "text/x-python",
   "name": "python",
   "nbconvert_exporter": "python",
   "pygments_lexer": "ipython3",
   "version": "3.9.6"
  },
  "vscode": {
   "interpreter": {
    "hash": "a34f6be7380022c7c37dcec527be1b7299e693ed450cbfbd331ebb00f76a99f4"
   }
  }
 },
 "nbformat": 4,
 "nbformat_minor": 5
}
