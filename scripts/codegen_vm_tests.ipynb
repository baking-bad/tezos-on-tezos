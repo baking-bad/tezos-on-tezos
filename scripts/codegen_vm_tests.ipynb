{
 "cells": [
  {
   "cell_type": "code",
   "execution_count": 88,
   "id": "2f77da32",
   "metadata": {},
   "outputs": [],
   "source": [
    "import pexpect\n",
    "import json\n",
    "from os.path import basename, splitext, dirname, join, exists\n",
    "from glob import glob\n",
    "from pytezos.michelson.parse import MichelsonParser, michelson_to_micheline"
   ]
  },
  {
   "cell_type": "code",
   "execution_count": 91,
   "id": "6f2d3614",
   "metadata": {},
   "outputs": [],
   "source": [
    "project_dir = dirname(globals()['_dh'][0])\n",
    "tzt_dir = '/tmp/tzt'"
   ]
  },
  {
   "cell_type": "code",
   "execution_count": 92,
   "id": "ab7eb900",
   "metadata": {},
   "outputs": [],
   "source": [
    "if not exists(tzt_dir):\n",
    "    pexpect.run(f'git clone https://gitlab.com/tezos/tzt-reference-test-suite.git {tzt_dir}')"
   ]
  },
  {
   "cell_type": "code",
   "execution_count": 64,
   "id": "fa817a38",
   "metadata": {},
   "outputs": [],
   "source": [
    "template = \"\"\"\n",
    "mod runner;\n",
    "\n",
    "use proto::Result;\n",
    "use runner::tzt::TZT;\n",
    "\n",
    "const CASE: &str = \"\n",
    "{tzt}\";\n",
    "\n",
    "#[test]\n",
    "fn {name}() -> Result<()> {{\n",
    "    TZT::try_from(CASE)?.run()\n",
    "}}\n",
    "\"\"\""
   ]
  },
  {
   "cell_type": "code",
   "execution_count": 94,
   "id": "17bd2b1e",
   "metadata": {},
   "outputs": [],
   "source": [
    "ignore = [\n",
    "    '/tmp/tzt/setdelegate_00.tzt',\n",
    "    '/tmp/tzt/transfertokens_00.tzt',\n",
    "    '/tmp/tzt/transfertokens_01.tzt',\n",
    "    '/tmp/tzt/createcontract_00.tzt',\n",
    "    '/tmp/tzt/createcontract_01.tzt',\n",
    "]\n",
    "# TODO: replace '_' with something that can be parsed with the current grammar"
   ]
  },
  {
   "cell_type": "code",
   "execution_count": 95,
   "id": "23b51e25",
   "metadata": {},
   "outputs": [],
   "source": [
    "parser = MichelsonParser(extra_primitives=[\n",
    "    'Contract', 'other_contracts', 'GeneralOverflow', 'Failed', 'MutezUnderflow', 'MutezOverflow'\n",
    "])\n",
    "for filename in glob(f'{tzt_dir}/*.tzt'):\n",
    "    # print(filename)\n",
    "    if filename in ignore:\n",
    "        continue\n",
    "    with open(filename) as f:\n",
    "        name = 'tzt_' + splitext(basename(filename))[0].replace('-', '_')\n",
    "        out = join(project_dir, 'proto', 'tests', f'{name}.rs')\n",
    "        if not exists(out):\n",
    "            src = michelson_to_micheline(f.read(), parser=parser)\n",
    "            tzt = json.dumps(src, indent=2).replace('\\\"', '\\\\\"')\n",
    "            dst = template.format(tzt=tzt, name=name)\n",
    "            with open(out, 'w') as rs:\n",
    "                rs.write(dst)"
   ]
  },
  {
   "cell_type": "code",
   "execution_count": null,
   "id": "a41f6929",
   "metadata": {},
   "outputs": [],
   "source": []
  }
 ],
 "metadata": {
  "kernelspec": {
   "display_name": "Python 3 (ipykernel)",
   "language": "python",
   "name": "python3"
  },
  "language_info": {
   "codemirror_mode": {
    "name": "ipython",
    "version": 3
   },
   "file_extension": ".py",
   "mimetype": "text/x-python",
   "name": "python",
   "nbconvert_exporter": "python",
   "pygments_lexer": "ipython3",
   "version": "3.9.6"
  }
 },
 "nbformat": 4,
 "nbformat_minor": 5
}
