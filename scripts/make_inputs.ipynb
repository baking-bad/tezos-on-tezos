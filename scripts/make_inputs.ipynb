{
 "cells": [
  {
   "cell_type": "code",
   "execution_count": 2,
   "id": "68eaadf9",
   "metadata": {},
   "outputs": [],
   "source": [
    "from pytezos import pytezos\n",
    "from os.path import dirname, join\n",
    "import json"
   ]
  },
  {
   "cell_type": "code",
   "execution_count": 7,
   "id": "946279ad",
   "metadata": {},
   "outputs": [],
   "source": [
    "project_dir = dirname(globals()['_dh'][0])"
   ]
  },
  {
   "cell_type": "code",
   "execution_count": 24,
   "id": "0f185c70",
   "metadata": {},
   "outputs": [],
   "source": [
    "reveal_and_transfer = pytezos \\\n",
    "    .reveal() \\\n",
    "    .transaction(destination='tz1VSUr8wwNhLAzempoch5d6hLRiTh8Cjcjb', amount=1000000) \\\n",
    "    .fill() \\\n",
    "    .sign() \\\n",
    "    .binary_payload() \\\n",
    "    .hex()"
   ]
  },
  {
   "cell_type": "code",
   "execution_count": 25,
   "id": "5f273b2e",
   "metadata": {},
   "outputs": [],
   "source": [
    "with open(join(project_dir, '.bin', 'inputs.json'), 'w') as f:\n",
    "    f.write(json.dumps([[{'external': reveal_and_transfer}]]))"
   ]
  },
  {
   "cell_type": "code",
   "execution_count": 4,
   "id": "c2c06c08",
   "metadata": {},
   "outputs": [],
   "source": [
    "transfer = pytezos \\\n",
    "    .transaction(destination='tz1VSUr8wwNhLAzempoch5d6hLRiTh8Cjcjb', amount=1000000) \\\n",
    "    .fill() \\\n",
    "    .sign() \\\n",
    "    .binary_payload() \\\n",
    "    .hex()"
   ]
  },
  {
   "cell_type": "code",
   "execution_count": 9,
   "id": "a2c1d21d",
   "metadata": {},
   "outputs": [],
   "source": [
    "with open(join(project_dir, '.bin', 'messages.json'), 'w') as f:\n",
    "    f.write(json.dumps([transfer for _ in range(100)]))"
   ]
  },
  {
   "cell_type": "code",
   "execution_count": null,
   "id": "9cd10a02",
   "metadata": {},
   "outputs": [],
   "source": []
  }
 ],
 "metadata": {
  "kernelspec": {
   "display_name": "Python 3 (ipykernel)",
   "language": "python",
   "name": "python3"
  },
  "language_info": {
   "codemirror_mode": {
    "name": "ipython",
    "version": 3
   },
   "file_extension": ".py",
   "mimetype": "text/x-python",
   "name": "python",
   "nbconvert_exporter": "python",
   "pygments_lexer": "ipython3",
   "version": "3.9.6"
  }
 },
 "nbformat": 4,
 "nbformat_minor": 5
}
