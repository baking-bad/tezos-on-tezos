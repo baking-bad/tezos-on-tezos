{
 "cells": [
  {
   "cell_type": "code",
   "execution_count": 55,
   "id": "5f925d13",
   "metadata": {},
   "outputs": [],
   "source": [
    "from pytezos import pytezos, Key, ContractInterface"
   ]
  },
  {
   "cell_type": "code",
   "execution_count": 56,
   "id": "36f9fc3b",
   "metadata": {},
   "outputs": [],
   "source": [
    "pytezos = pytezos.using(key='bootstrap2', shell='https://rollupnet.zaun.baking-bad.org/')"
   ]
  },
  {
   "cell_type": "code",
   "execution_count": 58,
   "id": "f5435a85",
   "metadata": {},
   "outputs": [
    {
     "data": {
      "text/plain": [
       "{'balance': '40000000000000', 'counter': '0'}"
      ]
     },
     "execution_count": 58,
     "metadata": {},
     "output_type": "execute_result"
    }
   ],
   "source": [
    "pytezos.account()"
   ]
  },
  {
   "cell_type": "code",
   "execution_count": null,
   "id": "1626a8ca",
   "metadata": {},
   "outputs": [],
   "source": []
  },
  {
   "cell_type": "code",
   "execution_count": 59,
   "id": "977f8d77",
   "metadata": {},
   "outputs": [
    {
     "data": {
      "text/plain": [
       "<pytezos.operation.group.OperationGroup object at 0x7f88afa80220>\n",
       "\n",
       "Properties\n",
       ".key\t\ttz1gjaF81ZRRvdzjobyfVNsAeSC6PScjfQwN\n",
       ".shell\t\t['https://rollupnet.zaun.baking-bad.org/']\n",
       ".block_id\thead\n",
       "\n",
       "Payload\n",
       "{'branch': 'BLMzeFpzHK7pCwLDBKnyq7jZ1ivy5RpRNt7ZjHFGB2YMxA5ubor',\n",
       " 'contents': [{'counter': '1',\n",
       "               'fee': '266',\n",
       "               'gas_limit': '0',\n",
       "               'kind': 'reveal',\n",
       "               'public_key': 'edpktzNbDAUjUk697W7gYg2CRuBQjyPxbEg8dLccYYwKSKvkPvjtV9',\n",
       "               'source': 'tz1gjaF81ZRRvdzjobyfVNsAeSC6PScjfQwN',\n",
       "               'storage_limit': '0'}],\n",
       " 'protocol': 'ProtoALphaALphaALphaALphaALphaALphaALphaALphaDdp3zK',\n",
       " 'signature': 'sigpp3RA1AGq19z9LyNjhvGg2GfGAp3AaeYi8ZiYauaytQmPvrXHukfSMyDrUqSnxEnFCX1Jwyi4HKaSQy7jSvYaUmaiQH8D'}\n",
       "\n",
       "Helpers\n",
       ".activate_account()\n",
       ".autofill()\n",
       ".ballot()\n",
       ".binary_payload()\n",
       ".delegation()\n",
       ".double_baking_evidence()\n",
       ".double_endorsement_evidence()\n",
       ".endorsement()\n",
       ".endorsement_with_slot()\n",
       ".failing_noop()\n",
       ".fill()\n",
       ".forge()\n",
       ".hash()\n",
       ".inject()\n",
       ".json_payload()\n",
       ".message()\n",
       ".operation()\n",
       ".origination()\n",
       ".preapply()\n",
       ".proposals()\n",
       ".register_global_constant()\n",
       ".result()\n",
       ".reveal()\n",
       ".run()\n",
       ".run_operation()\n",
       ".seed_nonce_revelation()\n",
       ".send()\n",
       ".send_async()\n",
       ".sign()\n",
       ".transaction()"
      ]
     },
     "execution_count": 59,
     "metadata": {},
     "output_type": "execute_result"
    }
   ],
   "source": [
    "pytezos.reveal().send(ttl=119)"
   ]
  },
  {
   "cell_type": "code",
   "execution_count": null,
   "id": "16851bb9",
   "metadata": {},
   "outputs": [],
   "source": []
  },
  {
   "cell_type": "code",
   "execution_count": 23,
   "id": "2a4b072a",
   "metadata": {},
   "outputs": [
    {
     "data": {
      "text/plain": [
       "<pytezos.operation.group.OperationGroup object at 0x7f88afd37e20>\n",
       "\n",
       "Properties\n",
       ".key\t\ttz1VSUr8wwNhLAzempoch5d6hLRiTh8Cjcjb\n",
       ".shell\t\t['https://rollupnet.zaun.baking-bad.org/']\n",
       ".block_id\thead\n",
       "\n",
       "Payload\n",
       "{'branch': 'BKz8GS6vSM3k1Sx2oBc44N35oLe9Kw2Fnus86dEa2cCmzZJv4NL',\n",
       " 'contents': [{'amount': '100000000',\n",
       "               'counter': '2',\n",
       "               'destination': 'tz1N2386URdGRJDbMuEEn757Y5HBPg5XwtmQ',\n",
       "               'fee': '270',\n",
       "               'gas_limit': '100',\n",
       "               'kind': 'transaction',\n",
       "               'source': 'tz1VSUr8wwNhLAzempoch5d6hLRiTh8Cjcjb',\n",
       "               'storage_limit': '100'}],\n",
       " 'protocol': 'ProtoALphaALphaALphaALphaALphaALphaALphaALphaDdp3zK',\n",
       " 'signature': 'sigdqauBLxWN4PpkiPYnngP5ZNHFL6q2eL4QWUMXCy1iHeoxhqX8LSAGnpHZLxY6nvAos1fojwesaETk7YQWuZ6Z6NuUmAd4'}\n",
       "\n",
       "Helpers\n",
       ".activate_account()\n",
       ".autofill()\n",
       ".ballot()\n",
       ".binary_payload()\n",
       ".delegation()\n",
       ".double_baking_evidence()\n",
       ".double_endorsement_evidence()\n",
       ".endorsement()\n",
       ".endorsement_with_slot()\n",
       ".failing_noop()\n",
       ".fill()\n",
       ".forge()\n",
       ".hash()\n",
       ".inject()\n",
       ".json_payload()\n",
       ".message()\n",
       ".operation()\n",
       ".origination()\n",
       ".preapply()\n",
       ".proposals()\n",
       ".register_global_constant()\n",
       ".result()\n",
       ".reveal()\n",
       ".run()\n",
       ".run_operation()\n",
       ".seed_nonce_revelation()\n",
       ".send()\n",
       ".send_async()\n",
       ".sign()\n",
       ".transaction()"
      ]
     },
     "execution_count": 23,
     "metadata": {},
     "output_type": "execute_result"
    }
   ],
   "source": [
    "pytezos.transaction(destination='tz1N2386URdGRJDbMuEEn757Y5HBPg5XwtmQ', amount=100000000).send(ttl=119)"
   ]
  },
  {
   "cell_type": "code",
   "execution_count": 33,
   "id": "fab64026",
   "metadata": {},
   "outputs": [
    {
     "data": {
      "text/plain": [
       "{'balance': '100000000', 'counter': '0'}"
      ]
     },
     "execution_count": 33,
     "metadata": {},
     "output_type": "execute_result"
    }
   ],
   "source": [
    "pytezos.shell.contracts['tz1N2386URdGRJDbMuEEn757Y5HBPg5XwtmQ']()"
   ]
  },
  {
   "cell_type": "code",
   "execution_count": 34,
   "id": "a373e060",
   "metadata": {},
   "outputs": [],
   "source": [
    "from pytezos import ContractInterface"
   ]
  },
  {
   "cell_type": "code",
   "execution_count": 35,
   "id": "91bad637",
   "metadata": {},
   "outputs": [],
   "source": [
    "ci = ContractInterface.from_michelson(\"\"\"\n",
    "parameter unit;\n",
    "storage unit;\n",
    "code { FAILWITH }\n",
    "\"\"\")"
   ]
  },
  {
   "cell_type": "code",
   "execution_count": 37,
   "id": "14e50bed",
   "metadata": {},
   "outputs": [
    {
     "data": {
      "text/plain": [
       "<pytezos.operation.group.OperationGroup object at 0x7f2e88cf1a90>\n",
       "\n",
       "Properties\n",
       ".key\t\ttz1VSUr8wwNhLAzempoch5d6hLRiTh8Cjcjb\n",
       ".shell\t\t['https://tot-facade-monday.zaun.baking-bad.org/']\n",
       ".block_id\thead\n",
       "\n",
       "Payload\n",
       "{'branch': 'BLpskP5qrN7z88m7nFmxv5xqLoxJetvzS2yLUy7FHTwLyYGwdZM',\n",
       " 'contents': [{'balance': '0',\n",
       "               'counter': '3',\n",
       "               'fee': '278',\n",
       "               'gas_limit': '100',\n",
       "               'kind': 'origination',\n",
       "               'script': {'code': [{'args': [{'prim': 'unit'}],\n",
       "                                    'prim': 'parameter'},\n",
       "                                   {'args': [{'prim': 'unit'}],\n",
       "                                    'prim': 'storage'},\n",
       "                                   {'args': [[{'prim': 'FAILWITH'}]],\n",
       "                                    'prim': 'code'}],\n",
       "                          'storage': {'prim': 'Unit'}},\n",
       "               'source': 'tz1VSUr8wwNhLAzempoch5d6hLRiTh8Cjcjb',\n",
       "               'storage_limit': '357'}],\n",
       " 'protocol': 'ProtoALphaALphaALphaALphaALphaALphaALphaALphaDdp3zK',\n",
       " 'signature': 'sigp31ZT69SUuYef116KCoCEEjC7W2JNhVLQi65DfcD33w4d5VNZBPW6YMMJMN92wUoc8GPxre8zjeNJUuj1S6euxrpfXGn3'}\n",
       "\n",
       "Helpers\n",
       ".activate_account()\n",
       ".autofill()\n",
       ".ballot()\n",
       ".binary_payload()\n",
       ".delegation()\n",
       ".double_baking_evidence()\n",
       ".double_endorsement_evidence()\n",
       ".endorsement()\n",
       ".endorsement_with_slot()\n",
       ".failing_noop()\n",
       ".fill()\n",
       ".forge()\n",
       ".hash()\n",
       ".inject()\n",
       ".json_payload()\n",
       ".message()\n",
       ".operation()\n",
       ".origination()\n",
       ".preapply()\n",
       ".proposals()\n",
       ".register_global_constant()\n",
       ".result()\n",
       ".reveal()\n",
       ".run()\n",
       ".run_operation()\n",
       ".seed_nonce_revelation()\n",
       ".send()\n",
       ".send_async()\n",
       ".sign()\n",
       ".transaction()"
      ]
     },
     "execution_count": 37,
     "metadata": {},
     "output_type": "execute_result"
    }
   ],
   "source": [
    "pytezos.origination(script=ci.script()).send(ttl=119)"
   ]
  },
  {
   "cell_type": "code",
   "execution_count": 38,
   "id": "870ab6bd",
   "metadata": {},
   "outputs": [],
   "source": [
    "c = pytezos.contract('KT1L6hQvinkuntS9Z4LxhC9WUW3jcU3cedvJ')"
   ]
  },
  {
   "cell_type": "code",
   "execution_count": 45,
   "id": "a7996032",
   "metadata": {},
   "outputs": [
    {
     "data": {
      "text/plain": [
       "{'chain_id': 'NetXJMQH91NnLbq',\n",
       " 'hash': 'ootHxJxvFYzyE8fen3JTKCbaxydWiZNn7vutFRUQa66puFsX9Hj',\n",
       " 'protocol': 'ProtoALphaALphaALphaALphaALphaALphaALphaALphaDdp3zK',\n",
       " 'branch': 'BLF2iWkbUxXFxG7AkwVyt7J3gH8phXJPUsFpnDQx1QqukzJyBZp',\n",
       " 'contents': [{'kind': 'transaction',\n",
       "   'source': 'tz1VSUr8wwNhLAzempoch5d6hLRiTh8Cjcjb',\n",
       "   'fee': '104269',\n",
       "   'counter': '4',\n",
       "   'gas_limit': '1040000',\n",
       "   'storage_limit': '60000',\n",
       "   'amount': '0',\n",
       "   'destination': 'KT1L6hQvinkuntS9Z4LxhC9WUW3jcU3cedvJ',\n",
       "   'parameters': {'entrypoint': 'default', 'value': {'prim': 'Unit'}}}],\n",
       " 'signature': 'sigUNB5shwGJzbnVwZgXf9fYtGQgDLyJsrEep6S1o3WRNFJPQpdQWF7rRphrEMNt22dKah3HBtA6bpJM3n5D22zrEvDhwVHP'}"
      ]
     },
     "execution_count": 45,
     "metadata": {},
     "output_type": "execute_result"
    }
   ],
   "source": [
    "c.default().as_transaction().fill(ttl=119).sign().inject()"
   ]
  },
  {
   "cell_type": "code",
   "execution_count": null,
   "id": "c029bc32",
   "metadata": {},
   "outputs": [],
   "source": []
  }
 ],
 "metadata": {
  "kernelspec": {
   "display_name": "Python 3 (ipykernel)",
   "language": "python",
   "name": "python3"
  },
  "language_info": {
   "codemirror_mode": {
    "name": "ipython",
    "version": 3
   },
   "file_extension": ".py",
   "mimetype": "text/x-python",
   "name": "python",
   "nbconvert_exporter": "python",
   "pygments_lexer": "ipython3",
   "version": "3.9.6"
  }
 },
 "nbformat": 4,
 "nbformat_minor": 5
}
