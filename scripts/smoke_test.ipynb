{
 "cells": [
  {
   "cell_type": "code",
   "execution_count": 1,
   "id": "5f925d13",
   "metadata": {},
   "outputs": [],
   "source": [
    "from pytezos import pytezos"
   ]
  },
  {
   "cell_type": "code",
   "execution_count": 2,
   "id": "36f9fc3b",
   "metadata": {},
   "outputs": [],
   "source": [
    "pytezos = pytezos.using(key='alice', shell='localhost')"
   ]
  },
  {
   "cell_type": "code",
   "execution_count": 3,
   "id": "f5435a85",
   "metadata": {},
   "outputs": [
    {
     "data": {
      "text/plain": [
       "{'balance': '39999999999734', 'counter': '1'}"
      ]
     },
     "execution_count": 3,
     "metadata": {},
     "output_type": "execute_result"
    }
   ],
   "source": [
    "pytezos.account()"
   ]
  },
  {
   "cell_type": "code",
   "execution_count": 4,
   "id": "977f8d77",
   "metadata": {},
   "outputs": [
    {
     "ename": "RpcError",
     "evalue": "({'contract': 'tz1VSUr8wwNhLAzempoch5d6hLRiTh8Cjcjb',\n  'id': 'contract.previously_revealed_key',\n  'kind': 'temporary'},)",
     "output_type": "error",
     "traceback": [
      "\u001b[0;31m---------------------------------------------------------------------------\u001b[0m",
      "\u001b[0;31mRpcError\u001b[0m                                  Traceback (most recent call last)",
      "Cell \u001b[0;32mIn[4], line 1\u001b[0m\n\u001b[0;32m----> 1\u001b[0m \u001b[43mpytezos\u001b[49m\u001b[38;5;241;43m.\u001b[39;49m\u001b[43mreveal\u001b[49m\u001b[43m(\u001b[49m\u001b[43m)\u001b[49m\u001b[38;5;241;43m.\u001b[39;49m\u001b[43msend\u001b[49m\u001b[43m(\u001b[49m\u001b[43mttl\u001b[49m\u001b[38;5;241;43m=\u001b[39;49m\u001b[38;5;241;43m119\u001b[39;49m\u001b[43m)\u001b[49m\n",
      "File \u001b[0;32m~/.pyenv/versions/3.9.6/lib/python3.9/site-packages/pytezos/jupyter.py:90\u001b[0m, in \u001b[0;36minline_doc.<locals>.CustomReprDescriptor.__get__.<locals>.MethodWrapper.__call__\u001b[0;34m(self, *args, **kwargs)\u001b[0m\n\u001b[1;32m     88\u001b[0m     \u001b[38;5;28;01mreturn\u001b[39;00m method(\u001b[38;5;241m*\u001b[39margs, \u001b[38;5;241m*\u001b[39m\u001b[38;5;241m*\u001b[39mkwargs)\n\u001b[1;32m     89\u001b[0m \u001b[38;5;28;01melse\u001b[39;00m:\n\u001b[0;32m---> 90\u001b[0m     \u001b[38;5;28;01mreturn\u001b[39;00m \u001b[43mmethod\u001b[49m\u001b[43m(\u001b[49m\u001b[38;5;28;43mself\u001b[39;49m\u001b[38;5;241;43m.\u001b[39;49m\u001b[43mobj\u001b[49m\u001b[43m,\u001b[49m\u001b[43m \u001b[49m\u001b[38;5;241;43m*\u001b[39;49m\u001b[43margs\u001b[49m\u001b[43m,\u001b[49m\u001b[43m \u001b[49m\u001b[38;5;241;43m*\u001b[39;49m\u001b[38;5;241;43m*\u001b[39;49m\u001b[43mkwargs\u001b[49m\u001b[43m)\u001b[49m\n",
      "File \u001b[0;32m~/.pyenv/versions/3.9.6/lib/python3.9/site-packages/pytezos/operation/group.py:374\u001b[0m, in \u001b[0;36mOperationGroup.send\u001b[0;34m(self, gas_reserve, burn_reserve, min_confirmations, ttl)\u001b[0m\n\u001b[1;32m    371\u001b[0m \u001b[38;5;28;01mif\u001b[39;00m ttl \u001b[38;5;129;01mis\u001b[39;00m \u001b[38;5;28;01mNone\u001b[39;00m:\n\u001b[1;32m    372\u001b[0m     ttl \u001b[38;5;241m=\u001b[39m \u001b[38;5;28mself\u001b[39m\u001b[38;5;241m.\u001b[39mcontext\u001b[38;5;241m.\u001b[39mget_operations_ttl()\n\u001b[0;32m--> 374\u001b[0m opg \u001b[38;5;241m=\u001b[39m \u001b[38;5;28;43mself\u001b[39;49m\u001b[38;5;241;43m.\u001b[39;49m\u001b[43mautofill\u001b[49m\u001b[43m(\u001b[49m\u001b[43mgas_reserve\u001b[49m\u001b[38;5;241;43m=\u001b[39;49m\u001b[43mgas_reserve\u001b[49m\u001b[43m,\u001b[49m\u001b[43m \u001b[49m\u001b[43mburn_reserve\u001b[49m\u001b[38;5;241;43m=\u001b[39;49m\u001b[43mburn_reserve\u001b[49m\u001b[43m,\u001b[49m\u001b[43m \u001b[49m\u001b[43mttl\u001b[49m\u001b[38;5;241;43m=\u001b[39;49m\u001b[43mttl\u001b[49m\u001b[43m)\u001b[49m\u001b[38;5;241m.\u001b[39msign()\n\u001b[1;32m    375\u001b[0m res \u001b[38;5;241m=\u001b[39m opg\u001b[38;5;241m.\u001b[39minject(min_confirmations\u001b[38;5;241m=\u001b[39mmin_confirmations, num_blocks_wait\u001b[38;5;241m=\u001b[39mttl)\n\u001b[1;32m    376\u001b[0m \u001b[38;5;28;01mreturn\u001b[39;00m opg\u001b[38;5;241m.\u001b[39m_spawn(opg_hash\u001b[38;5;241m=\u001b[39mres[\u001b[38;5;124m'\u001b[39m\u001b[38;5;124mhash\u001b[39m\u001b[38;5;124m'\u001b[39m], opg_result\u001b[38;5;241m=\u001b[39mres)\n",
      "File \u001b[0;32m~/.pyenv/versions/3.9.6/lib/python3.9/site-packages/pytezos/jupyter.py:90\u001b[0m, in \u001b[0;36minline_doc.<locals>.CustomReprDescriptor.__get__.<locals>.MethodWrapper.__call__\u001b[0;34m(self, *args, **kwargs)\u001b[0m\n\u001b[1;32m     88\u001b[0m     \u001b[38;5;28;01mreturn\u001b[39;00m method(\u001b[38;5;241m*\u001b[39margs, \u001b[38;5;241m*\u001b[39m\u001b[38;5;241m*\u001b[39mkwargs)\n\u001b[1;32m     89\u001b[0m \u001b[38;5;28;01melse\u001b[39;00m:\n\u001b[0;32m---> 90\u001b[0m     \u001b[38;5;28;01mreturn\u001b[39;00m \u001b[43mmethod\u001b[49m\u001b[43m(\u001b[49m\u001b[38;5;28;43mself\u001b[39;49m\u001b[38;5;241;43m.\u001b[39;49m\u001b[43mobj\u001b[49m\u001b[43m,\u001b[49m\u001b[43m \u001b[49m\u001b[38;5;241;43m*\u001b[39;49m\u001b[43margs\u001b[49m\u001b[43m,\u001b[49m\u001b[43m \u001b[49m\u001b[38;5;241;43m*\u001b[39;49m\u001b[38;5;241;43m*\u001b[39;49m\u001b[43mkwargs\u001b[49m\u001b[43m)\u001b[49m\n",
      "File \u001b[0;32m~/.pyenv/versions/3.9.6/lib/python3.9/site-packages/pytezos/operation/group.py:267\u001b[0m, in \u001b[0;36mOperationGroup.autofill\u001b[0;34m(self, gas_reserve, burn_reserve, counter, ttl, fee, gas_limit, storage_limit, **kwargs)\u001b[0m\n\u001b[1;32m    265\u001b[0m opg_with_metadata \u001b[38;5;241m=\u001b[39m opg\u001b[38;5;241m.\u001b[39mrun()\n\u001b[1;32m    266\u001b[0m \u001b[38;5;28;01mif\u001b[39;00m \u001b[38;5;129;01mnot\u001b[39;00m OperationResult\u001b[38;5;241m.\u001b[39mis_applied(opg_with_metadata):\n\u001b[0;32m--> 267\u001b[0m     \u001b[38;5;28;01mraise\u001b[39;00m RpcError\u001b[38;5;241m.\u001b[39mfrom_errors(OperationResult\u001b[38;5;241m.\u001b[39merrors(opg_with_metadata))\n\u001b[1;32m    269\u001b[0m fee_acc \u001b[38;5;241m=\u001b[39m \u001b[38;5;241m0\u001b[39m\n\u001b[1;32m    270\u001b[0m extra_size \u001b[38;5;241m=\u001b[39m \u001b[38;5;241m32\u001b[39m \u001b[38;5;241m+\u001b[39m \u001b[38;5;241m64\u001b[39m  \u001b[38;5;66;03m# size of serialized branch and signature + safe reserve\u001b[39;00m\n",
      "\u001b[0;31mRpcError\u001b[0m: ({'contract': 'tz1VSUr8wwNhLAzempoch5d6hLRiTh8Cjcjb',\n  'id': 'contract.previously_revealed_key',\n  'kind': 'temporary'},)"
     ]
    }
   ],
   "source": [
    "pytezos.reveal().send(ttl=119)"
   ]
  },
  {
   "cell_type": "code",
   "execution_count": 1,
   "id": "a373e060",
   "metadata": {},
   "outputs": [],
   "source": [
    "from pytezos import ContractInterface"
   ]
  },
  {
   "cell_type": "code",
   "execution_count": 2,
   "id": "91bad637",
   "metadata": {},
   "outputs": [],
   "source": [
    "ci = ContractInterface.from_michelson(\"\"\"\n",
    "parameter unit;\n",
    "storage unit;\n",
    "code { \"deadbeef\" }\n",
    "\"\"\")"
   ]
  },
  {
   "cell_type": "code",
   "execution_count": 3,
   "id": "14e50bed",
   "metadata": {},
   "outputs": [
    {
     "data": {
      "text/plain": [
       "<pytezos.jupyter.ContractInterface object at 0x7fa6981ab430>\n",
       "\n",
       "Properties\n",
       ".block_id\thead\n",
       ".storage\t# access storage data at block `block_id`\n",
       ".parameter\t# root entrypoint\n",
       "\n",
       "Entrypoints\n",
       ".default()\n",
       "\n",
       "Views\n",
       "\n",
       "Helpers\n",
       ".big_map_get()\n",
       ".create_from()\n",
       ".from_context()\n",
       ".from_file()\n",
       ".from_micheline()\n",
       ".from_michelson()\n",
       ".from_url()\n",
       ".metadata()\n",
       ".metadata_url()\n",
       ".operation_result()\n",
       ".originate()\n",
       ".program()\n",
       ".script()\n",
       ".storage_from_file()\n",
       ".storage_from_micheline()\n",
       ".storage_from_michelson()\n",
       ".to_file()\n",
       ".to_micheline()\n",
       ".to_michelson()\n",
       ".using()"
      ]
     },
     "execution_count": 3,
     "metadata": {},
     "output_type": "execute_result"
    }
   ],
   "source": [
    "ci"
   ]
  },
  {
   "cell_type": "code",
   "execution_count": 5,
   "id": "d77cd4e2",
   "metadata": {},
   "outputs": [],
   "source": [
    "import requests"
   ]
  },
  {
   "cell_type": "code",
   "execution_count": 8,
   "id": "62f2db41",
   "metadata": {},
   "outputs": [
    {
     "data": {
      "text/plain": [
       "[{'ts': 1676246400, 'volume': '1374660', 'balance_update': '1374660'},\n",
       " {'ts': 1676073600, 'volume': '171000', 'balance_update': '171000'},\n",
       " {'ts': 1675987200, 'volume': '456644', 'balance_update': '-384914'},\n",
       " {'ts': 1675900800, 'volume': '6373722', 'balance_update': '3294822'},\n",
       " {'ts': 1675814400, 'volume': '3405925', 'balance_update': '-232325'},\n",
       " {'ts': 1675728000, 'volume': '856675', 'balance_update': '-856675'},\n",
       " {'ts': 1675641600, 'volume': '75242', 'balance_update': '-29168'},\n",
       " {'ts': 1675555200, 'volume': '1161474', 'balance_update': '-100278'},\n",
       " {'ts': 1675468800, 'volume': '580406', 'balance_update': '-580406'},\n",
       " {'ts': 1675382400, 'volume': '864180', 'balance_update': '-427174'},\n",
       " {'ts': 1675296000, 'volume': '1603423', 'balance_update': '-1243423'},\n",
       " {'ts': 1675209600, 'volume': '2740390', 'balance_update': '85158'},\n",
       " {'ts': 1675123200, 'volume': '729876', 'balance_update': '84380'},\n",
       " {'ts': 1675036800, 'volume': '2920383', 'balance_update': '2246187'},\n",
       " {'ts': 1674950400, 'volume': '1012521', 'balance_update': '-1012521'},\n",
       " {'ts': 1674864000, 'volume': '338118', 'balance_update': '-73814'},\n",
       " {'ts': 1674777600, 'volume': '855503', 'balance_update': '-437903'},\n",
       " {'ts': 1674691200, 'volume': '380687', 'balance_update': '-66167'},\n",
       " {'ts': 1674604800, 'volume': '1986597', 'balance_update': '-254997'},\n",
       " {'ts': 1674518400, 'volume': '1340844', 'balance_update': '996656'},\n",
       " {'ts': 1674432000, 'volume': '7420235', 'balance_update': '-328413'},\n",
       " {'ts': 1674345600, 'volume': '2018100', 'balance_update': '460818'},\n",
       " {'ts': 1674259200, 'volume': '3043718', 'balance_update': '-1923538'},\n",
       " {'ts': 1674172800, 'volume': '1759103', 'balance_update': '-1688759'},\n",
       " {'ts': 1674086400, 'volume': '3716683', 'balance_update': '-538387'},\n",
       " {'ts': 1674000000, 'volume': '2081955', 'balance_update': '1564019'},\n",
       " {'ts': 1673913600, 'volume': '13580442', 'balance_update': '-13049670'},\n",
       " {'ts': 1673827200, 'volume': '930479', 'balance_update': '839941'},\n",
       " {'ts': 1673740800, 'volume': '3170638', 'balance_update': '-1370638'},\n",
       " {'ts': 1673654400, 'volume': '209882', 'balance_update': '-148386'}]"
      ]
     },
     "execution_count": 8,
     "metadata": {},
     "output_type": "execute_result"
    }
   ],
   "source": [
    "requests.post('https://stats.dipdup.net/v1/volume_and_balance_updates/tezos/day?Account=KT1Jhv1gjuhNtrBrZpsafq5NuhrDAHN1W1aW').json()"
   ]
  },
  {
   "cell_type": "code",
   "execution_count": 10,
   "id": "44533ec3",
   "metadata": {},
   "outputs": [
    {
     "data": {
      "text/plain": [
       "[{'ts': 1676246400, 'volume': '1423931', 'balance_update': '-1423931'},\n",
       " {'ts': 1676073600, 'volume': '184864', 'balance_update': '-184864'},\n",
       " {'ts': 1675987200, 'volume': '495127', 'balance_update': '417303'},\n",
       " {'ts': 1675900800, 'volume': '7392590', 'balance_update': '-3698592'},\n",
       " {'ts': 1675814400, 'volume': '4193933', 'balance_update': '291153'},\n",
       " {'ts': 1675728000, 'volume': '1010842', 'balance_update': '1010842'},\n",
       " {'ts': 1675641600, 'volume': '60594', 'balance_update': '60594'},\n",
       " {'ts': 1675555200, 'volume': '1354704', 'balance_update': '119762'},\n",
       " {'ts': 1675468800, 'volume': '663650', 'balance_update': '663650'},\n",
       " {'ts': 1675382400, 'volume': '941609', 'balance_update': '512639'},\n",
       " {'ts': 1675296000, 'volume': '1755755', 'balance_update': '1356027'},\n",
       " {'ts': 1675209600, 'volume': '2877297', 'balance_update': '-81987'},\n",
       " {'ts': 1675123200, 'volume': '745638', 'balance_update': '-54856'},\n",
       " {'ts': 1675036800, 'volume': '3203765', 'balance_update': '-2485787'},\n",
       " {'ts': 1674950400, 'volume': '1152654', 'balance_update': '1152654'},\n",
       " {'ts': 1674864000, 'volume': '341588', 'balance_update': '118924'},\n",
       " {'ts': 1674777600, 'volume': '939035', 'balance_update': '485389'},\n",
       " {'ts': 1674691200, 'volume': '382862', 'balance_update': '107508'},\n",
       " {'ts': 1674604800, 'volume': '2120129', 'balance_update': '283037'},\n",
       " {'ts': 1674518400, 'volume': '1478254', 'balance_update': '-1090982'},\n",
       " {'ts': 1674432000, 'volume': '8681656', 'balance_update': '390028'},\n",
       " {'ts': 1674345600, 'volume': '2209853', 'balance_update': '-467983'},\n",
       " {'ts': 1674259200, 'volume': '3359564', 'balance_update': '2096372'},\n",
       " {'ts': 1674172800, 'volume': '1761505', 'balance_update': '1761505'},\n",
       " {'ts': 1674086400, 'volume': '3737871', 'balance_update': '538977'},\n",
       " {'ts': 1674000000, 'volume': '2073549', 'balance_update': '-1553911'},\n",
       " {'ts': 1673913600, 'volume': '13858635', 'balance_update': '-12116385'},\n",
       " {'ts': 1673827200, 'volume': '943521', 'balance_update': '-852207'},\n",
       " {'ts': 1673740800, 'volume': '3253142', 'balance_update': '1394622'},\n",
       " {'ts': 1673654400, 'volume': '177681', 'balance_update': '177681'}]"
      ]
     },
     "execution_count": 10,
     "metadata": {},
     "output_type": "execute_result"
    }
   ],
   "source": [
    "requests.post('https://stats.dipdup.net/v1/volume_and_balance_updates/tokens/day?Account=KT1Jhv1gjuhNtrBrZpsafq5NuhrDAHN1W1aW&Contract=KT1XnTn74bUtxHfDtBmm2bGZAQfhPbvKWR8o&TokenID=0').json()"
   ]
  },
  {
   "cell_type": "code",
   "execution_count": null,
   "id": "d554caeb",
   "metadata": {},
   "outputs": [],
   "source": []
  }
 ],
 "metadata": {
  "kernelspec": {
   "display_name": "Python 3 (ipykernel)",
   "language": "python",
   "name": "python3"
  },
  "language_info": {
   "codemirror_mode": {
    "name": "ipython",
    "version": 3
   },
   "file_extension": ".py",
   "mimetype": "text/x-python",
   "name": "python",
   "nbconvert_exporter": "python",
   "pygments_lexer": "ipython3",
   "version": "3.9.6"
  }
 },
 "nbformat": 4,
 "nbformat_minor": 5
}
