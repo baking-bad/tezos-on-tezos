{
 "cells": [
  {
   "cell_type": "code",
   "execution_count": 2,
   "id": "5f925d13",
   "metadata": {},
   "outputs": [],
   "source": [
    "from pytezos import pytezos, Key"
   ]
  },
  {
   "cell_type": "code",
   "execution_count": 15,
   "id": "36f9fc3b",
   "metadata": {},
   "outputs": [],
   "source": [
    "pytezos = pytezos.using(key='alice', shell='https://tot-facade-monday.zaun.baking-bad.org/')"
   ]
  },
  {
   "cell_type": "code",
   "execution_count": 16,
   "id": "f5435a85",
   "metadata": {},
   "outputs": [
    {
     "data": {
      "text/plain": [
       "{'balance': '39999899999464', 'counter': '2'}"
      ]
     },
     "execution_count": 16,
     "metadata": {},
     "output_type": "execute_result"
    }
   ],
   "source": [
    "pytezos.account()"
   ]
  },
  {
   "cell_type": "code",
   "execution_count": 16,
   "id": "977f8d77",
   "metadata": {},
   "outputs": [
    {
     "data": {
      "text/plain": [
       "<pytezos.operation.group.OperationGroup object at 0x7fa66fa11fd0>\n",
       "\n",
       "Properties\n",
       ".key\t\ttz1VSUr8wwNhLAzempoch5d6hLRiTh8Cjcjb\n",
       ".shell\t\t['https://tot-facade-monday.zaun.baking-bad.org/']\n",
       ".block_id\thead\n",
       "\n",
       "Payload\n",
       "{'branch': 'BLJyWAqXJTL1uHFmixAFDEksy7RTVPyWS6Qtm5ppENVq6oJTDcx',\n",
       " 'contents': [{'counter': '1',\n",
       "               'fee': '266',\n",
       "               'gas_limit': '0',\n",
       "               'kind': 'reveal',\n",
       "               'public_key': 'edpkvGfYw3LyB1UcCahKQk4rF2tvbMUk8GFiTuMjL75uGXrpvKXhjn',\n",
       "               'source': 'tz1VSUr8wwNhLAzempoch5d6hLRiTh8Cjcjb',\n",
       "               'storage_limit': '0'}],\n",
       " 'protocol': 'ProtoALphaALphaALphaALphaALphaALphaALphaALphaDdp3zK',\n",
       " 'signature': 'sigpHovf92H8hJ3grdVxnYi963B96gH8di5risTeska8iR1a2Gj8F8gQP7xWaaTJozxSMzbHcqi6zkjZszGdRQM8QbKXhbzE'}\n",
       "\n",
       "Helpers\n",
       ".activate_account()\n",
       ".autofill()\n",
       ".ballot()\n",
       ".binary_payload()\n",
       ".delegation()\n",
       ".double_baking_evidence()\n",
       ".double_endorsement_evidence()\n",
       ".endorsement()\n",
       ".endorsement_with_slot()\n",
       ".failing_noop()\n",
       ".fill()\n",
       ".forge()\n",
       ".hash()\n",
       ".inject()\n",
       ".json_payload()\n",
       ".message()\n",
       ".operation()\n",
       ".origination()\n",
       ".preapply()\n",
       ".proposals()\n",
       ".register_global_constant()\n",
       ".result()\n",
       ".reveal()\n",
       ".run()\n",
       ".run_operation()\n",
       ".seed_nonce_revelation()\n",
       ".send()\n",
       ".send_async()\n",
       ".sign()\n",
       ".transaction()"
      ]
     },
     "execution_count": 16,
     "metadata": {},
     "output_type": "execute_result"
    }
   ],
   "source": [
    "pytezos.reveal().send(ttl=119)"
   ]
  },
  {
   "cell_type": "code",
   "execution_count": 23,
   "id": "2a4b072a",
   "metadata": {},
   "outputs": [
    {
     "data": {
      "text/plain": [
       "<pytezos.operation.group.OperationGroup object at 0x7f2e888660d0>\n",
       "\n",
       "Properties\n",
       ".key\t\ttz1VSUr8wwNhLAzempoch5d6hLRiTh8Cjcjb\n",
       ".shell\t\t['https://tot-facade-monday.zaun.baking-bad.org/']\n",
       ".block_id\thead\n",
       "\n",
       "Payload\n",
       "{'branch': 'BLPYKAjaPH4zaH44dF7gLj7GnDEVZK8fLc1FrqpEKkHPmFRqbuq',\n",
       " 'contents': [{'amount': '100000000',\n",
       "               'counter': '3',\n",
       "               'destination': 'tz1N2386URdGRJDbMuEEn757Y5HBPg5XwtmQ',\n",
       "               'fee': '270',\n",
       "               'gas_limit': '100',\n",
       "               'kind': 'transaction',\n",
       "               'source': 'tz1VSUr8wwNhLAzempoch5d6hLRiTh8Cjcjb',\n",
       "               'storage_limit': '100'}],\n",
       " 'protocol': 'ProtoALphaALphaALphaALphaALphaALphaALphaALphaDdp3zK',\n",
       " 'signature': 'sigrFXSpRBtdkFtywSCFeSmag3UPJmwDFfGMJ1TC4ZQDvuoujrALdjWgysCLHJW1Hafm5ZzNDEwdnZW6GkDrQ3WsTWMrQGPo'}\n",
       "\n",
       "Helpers\n",
       ".activate_account()\n",
       ".autofill()\n",
       ".ballot()\n",
       ".binary_payload()\n",
       ".delegation()\n",
       ".double_baking_evidence()\n",
       ".double_endorsement_evidence()\n",
       ".endorsement()\n",
       ".endorsement_with_slot()\n",
       ".failing_noop()\n",
       ".fill()\n",
       ".forge()\n",
       ".hash()\n",
       ".inject()\n",
       ".json_payload()\n",
       ".message()\n",
       ".operation()\n",
       ".origination()\n",
       ".preapply()\n",
       ".proposals()\n",
       ".register_global_constant()\n",
       ".result()\n",
       ".reveal()\n",
       ".run()\n",
       ".run_operation()\n",
       ".seed_nonce_revelation()\n",
       ".send()\n",
       ".send_async()\n",
       ".sign()\n",
       ".transaction()"
      ]
     },
     "execution_count": 23,
     "metadata": {},
     "output_type": "execute_result"
    }
   ],
   "source": [
    "pytezos.transaction(destination='tz1N2386URdGRJDbMuEEn757Y5HBPg5XwtmQ', amount=100000000).send()"
   ]
  },
  {
   "cell_type": "code",
   "execution_count": 19,
   "id": "fab64026",
   "metadata": {},
   "outputs": [
    {
     "data": {
      "text/plain": [
       "{'balance': '100000000', 'counter': '0'}"
      ]
     },
     "execution_count": 19,
     "metadata": {},
     "output_type": "execute_result"
    }
   ],
   "source": [
    "pytezos.shell.contracts['tz1N2386URdGRJDbMuEEn757Y5HBPg5XwtmQ']()"
   ]
  },
  {
   "cell_type": "code",
   "execution_count": 17,
   "id": "a373e060",
   "metadata": {},
   "outputs": [],
   "source": [
    "from pytezos import ContractInterface"
   ]
  },
  {
   "cell_type": "code",
   "execution_count": 18,
   "id": "91bad637",
   "metadata": {},
   "outputs": [],
   "source": [
    "ci = ContractInterface.from_michelson(\"\"\"\n",
    "parameter unit;\n",
    "storage unit;\n",
    "code { FAILWITH }\n",
    "\"\"\")"
   ]
  },
  {
   "cell_type": "code",
   "execution_count": 19,
   "id": "14e50bed",
   "metadata": {},
   "outputs": [],
   "source": [
    "opg = pytezos.origination(script=ci.script()).send()"
   ]
  },
  {
   "cell_type": "code",
   "execution_count": 20,
   "id": "10d48cf4",
   "metadata": {},
   "outputs": [
    {
     "data": {
      "text/plain": [
       "<pytezos.operation.group.OperationGroup object at 0x7f2e89ab5820>\n",
       "\n",
       "Properties\n",
       ".key\t\ttz1VSUr8wwNhLAzempoch5d6hLRiTh8Cjcjb\n",
       ".shell\t\t['https://tot-facade-monday.zaun.baking-bad.org/']\n",
       ".block_id\thead\n",
       "\n",
       "Payload\n",
       "{'branch': 'BLzZy956mcnzq5SkYjp8hFR9z91cCzEqjUAdgo7TKTZW8NCNkVe',\n",
       " 'contents': [{'balance': '0',\n",
       "               'counter': '3',\n",
       "               'fee': '278',\n",
       "               'gas_limit': '100',\n",
       "               'kind': 'origination',\n",
       "               'script': {'code': [{'args': [{'prim': 'unit'}],\n",
       "                                    'prim': 'parameter'},\n",
       "                                   {'args': [{'prim': 'unit'}],\n",
       "                                    'prim': 'storage'},\n",
       "                                   {'args': [[{'prim': 'FAILWITH'}]],\n",
       "                                    'prim': 'code'}],\n",
       "                          'storage': {'prim': 'Unit'}},\n",
       "               'source': 'tz1VSUr8wwNhLAzempoch5d6hLRiTh8Cjcjb',\n",
       "               'storage_limit': '357'}],\n",
       " 'protocol': 'ProtoALphaALphaALphaALphaALphaALphaALphaALphaDdp3zK',\n",
       " 'signature': 'sigcpNJdGrid23KBoMp1THoxmRFGJA5cdpFcrLh8ffiCB4YFrZbNWFtywSUAo9LXGWo6qSpCSQuqpzzXpW2qcUQwgmBHjpnc'}\n",
       "\n",
       "Helpers\n",
       ".activate_account()\n",
       ".autofill()\n",
       ".ballot()\n",
       ".binary_payload()\n",
       ".delegation()\n",
       ".double_baking_evidence()\n",
       ".double_endorsement_evidence()\n",
       ".endorsement()\n",
       ".endorsement_with_slot()\n",
       ".failing_noop()\n",
       ".fill()\n",
       ".forge()\n",
       ".hash()\n",
       ".inject()\n",
       ".json_payload()\n",
       ".message()\n",
       ".operation()\n",
       ".origination()\n",
       ".preapply()\n",
       ".proposals()\n",
       ".register_global_constant()\n",
       ".result()\n",
       ".reveal()\n",
       ".run()\n",
       ".run_operation()\n",
       ".seed_nonce_revelation()\n",
       ".send()\n",
       ".send_async()\n",
       ".sign()\n",
       ".transaction()"
      ]
     },
     "execution_count": 20,
     "metadata": {},
     "output_type": "execute_result"
    }
   ],
   "source": [
    "opg"
   ]
  },
  {
   "cell_type": "code",
   "execution_count": null,
   "id": "55251a92",
   "metadata": {},
   "outputs": [],
   "source": []
  }
 ],
 "metadata": {
  "kernelspec": {
   "display_name": "Python 3 (ipykernel)",
   "language": "python",
   "name": "python3"
  },
  "language_info": {
   "codemirror_mode": {
    "name": "ipython",
    "version": 3
   },
   "file_extension": ".py",
   "mimetype": "text/x-python",
   "name": "python",
   "nbconvert_exporter": "python",
   "pygments_lexer": "ipython3",
   "version": "3.9.6"
  }
 },
 "nbformat": 4,
 "nbformat_minor": 5
}
