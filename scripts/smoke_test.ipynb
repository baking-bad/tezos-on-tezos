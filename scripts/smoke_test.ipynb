{
 "cells": [
  {
   "cell_type": "code",
   "execution_count": 1,
   "id": "5f925d13",
   "metadata": {},
   "outputs": [],
   "source": [
    "from pytezos import pytezos, Key"
   ]
  },
  {
   "cell_type": "code",
   "execution_count": 4,
   "id": "36f9fc3b",
   "metadata": {},
   "outputs": [],
   "source": [
    "pytezos = pytezos.using(key='alice', shell='https://rollupnet.zaun.baking-bad.org/')"
   ]
  },
  {
   "cell_type": "code",
   "execution_count": 5,
   "id": "f5435a85",
   "metadata": {},
   "outputs": [
    {
     "data": {
      "text/plain": [
       "{'balance': '40000000000000', 'counter': '0'}"
      ]
     },
     "execution_count": 5,
     "metadata": {},
     "output_type": "execute_result"
    }
   ],
   "source": [
    "pytezos.account()"
   ]
  },
  {
   "cell_type": "code",
   "execution_count": 6,
   "id": "977f8d77",
   "metadata": {},
   "outputs": [
    {
     "data": {
      "text/plain": [
       "<pytezos.operation.group.OperationGroup object at 0x7f88dc0f7370>\n",
       "\n",
       "Properties\n",
       ".key\t\ttz1VSUr8wwNhLAzempoch5d6hLRiTh8Cjcjb\n",
       ".shell\t\t['https://rollupnet.zaun.baking-bad.org/']\n",
       ".block_id\thead\n",
       "\n",
       "Payload\n",
       "{'branch': 'BKyDHyVoEkUFF3zgWbC2VEqGpxRBmxzGsyaZy1UGYm8eaVAkJox',\n",
       " 'contents': [{'counter': '1',\n",
       "               'fee': '266',\n",
       "               'gas_limit': '0',\n",
       "               'kind': 'reveal',\n",
       "               'public_key': 'edpkvGfYw3LyB1UcCahKQk4rF2tvbMUk8GFiTuMjL75uGXrpvKXhjn',\n",
       "               'source': 'tz1VSUr8wwNhLAzempoch5d6hLRiTh8Cjcjb',\n",
       "               'storage_limit': '0'}],\n",
       " 'protocol': 'ProtoALphaALphaALphaALphaALphaALphaALphaALphaDdp3zK',\n",
       " 'signature': 'sigg4R78tobxavXfpkaerGeN2LAYPaDEGNkEV6SYnNBtU9m3dfZPnYkTWaM64c5Zci2KbETPTP7a1prK4wusY2Py9NMMCDRG'}\n",
       "\n",
       "Helpers\n",
       ".activate_account()\n",
       ".autofill()\n",
       ".ballot()\n",
       ".binary_payload()\n",
       ".delegation()\n",
       ".double_baking_evidence()\n",
       ".double_endorsement_evidence()\n",
       ".endorsement()\n",
       ".endorsement_with_slot()\n",
       ".failing_noop()\n",
       ".fill()\n",
       ".forge()\n",
       ".hash()\n",
       ".inject()\n",
       ".json_payload()\n",
       ".message()\n",
       ".operation()\n",
       ".origination()\n",
       ".preapply()\n",
       ".proposals()\n",
       ".register_global_constant()\n",
       ".result()\n",
       ".reveal()\n",
       ".run()\n",
       ".run_operation()\n",
       ".seed_nonce_revelation()\n",
       ".send()\n",
       ".send_async()\n",
       ".sign()\n",
       ".transaction()"
      ]
     },
     "execution_count": 6,
     "metadata": {},
     "output_type": "execute_result"
    }
   ],
   "source": [
    "pytezos.reveal().send(ttl=119)"
   ]
  },
  {
   "cell_type": "code",
   "execution_count": 10,
   "id": "2a4b072a",
   "metadata": {},
   "outputs": [
    {
     "ename": "RpcError",
     "evalue": "('[{\"kind\":\"temporary\",\"id\":\"contract.unrevealed_key\",\"contract\":\"tz1VSUr8wwNhLAzempoch5d6hLRiTh8Cjcjb\"}]',)",
     "output_type": "error",
     "traceback": [
      "\u001b[0;31m---------------------------------------------------------------------------\u001b[0m",
      "\u001b[0;31mRpcError\u001b[0m                                  Traceback (most recent call last)",
      "Cell \u001b[0;32mIn[10], line 1\u001b[0m\n\u001b[0;32m----> 1\u001b[0m \u001b[43mpytezos\u001b[49m\u001b[38;5;241;43m.\u001b[39;49m\u001b[43mtransaction\u001b[49m\u001b[43m(\u001b[49m\u001b[43mdestination\u001b[49m\u001b[38;5;241;43m=\u001b[39;49m\u001b[38;5;124;43m'\u001b[39;49m\u001b[38;5;124;43mtz1N2386URdGRJDbMuEEn757Y5HBPg5XwtmQ\u001b[39;49m\u001b[38;5;124;43m'\u001b[39;49m\u001b[43m,\u001b[49m\u001b[43m \u001b[49m\u001b[43mamount\u001b[49m\u001b[38;5;241;43m=\u001b[39;49m\u001b[38;5;241;43m100000000\u001b[39;49m\u001b[43m)\u001b[49m\u001b[38;5;241;43m.\u001b[39;49m\u001b[43msend\u001b[49m\u001b[43m(\u001b[49m\u001b[43mttl\u001b[49m\u001b[38;5;241;43m=\u001b[39;49m\u001b[38;5;241;43m119\u001b[39;49m\u001b[43m)\u001b[49m\n",
      "File \u001b[0;32m~/.pyenv/versions/3.9.6/lib/python3.9/site-packages/pytezos/jupyter.py:90\u001b[0m, in \u001b[0;36minline_doc.<locals>.CustomReprDescriptor.__get__.<locals>.MethodWrapper.__call__\u001b[0;34m(self, *args, **kwargs)\u001b[0m\n\u001b[1;32m     88\u001b[0m     \u001b[38;5;28;01mreturn\u001b[39;00m method(\u001b[38;5;241m*\u001b[39margs, \u001b[38;5;241m*\u001b[39m\u001b[38;5;241m*\u001b[39mkwargs)\n\u001b[1;32m     89\u001b[0m \u001b[38;5;28;01melse\u001b[39;00m:\n\u001b[0;32m---> 90\u001b[0m     \u001b[38;5;28;01mreturn\u001b[39;00m \u001b[43mmethod\u001b[49m\u001b[43m(\u001b[49m\u001b[38;5;28;43mself\u001b[39;49m\u001b[38;5;241;43m.\u001b[39;49m\u001b[43mobj\u001b[49m\u001b[43m,\u001b[49m\u001b[43m \u001b[49m\u001b[38;5;241;43m*\u001b[39;49m\u001b[43margs\u001b[49m\u001b[43m,\u001b[49m\u001b[43m \u001b[49m\u001b[38;5;241;43m*\u001b[39;49m\u001b[38;5;241;43m*\u001b[39;49m\u001b[43mkwargs\u001b[49m\u001b[43m)\u001b[49m\n",
      "File \u001b[0;32m~/.pyenv/versions/3.9.6/lib/python3.9/site-packages/pytezos/operation/group.py:374\u001b[0m, in \u001b[0;36mOperationGroup.send\u001b[0;34m(self, gas_reserve, burn_reserve, min_confirmations, ttl)\u001b[0m\n\u001b[1;32m    371\u001b[0m \u001b[38;5;28;01mif\u001b[39;00m ttl \u001b[38;5;129;01mis\u001b[39;00m \u001b[38;5;28;01mNone\u001b[39;00m:\n\u001b[1;32m    372\u001b[0m     ttl \u001b[38;5;241m=\u001b[39m \u001b[38;5;28mself\u001b[39m\u001b[38;5;241m.\u001b[39mcontext\u001b[38;5;241m.\u001b[39mget_operations_ttl()\n\u001b[0;32m--> 374\u001b[0m opg \u001b[38;5;241m=\u001b[39m \u001b[38;5;28;43mself\u001b[39;49m\u001b[38;5;241;43m.\u001b[39;49m\u001b[43mautofill\u001b[49m\u001b[43m(\u001b[49m\u001b[43mgas_reserve\u001b[49m\u001b[38;5;241;43m=\u001b[39;49m\u001b[43mgas_reserve\u001b[49m\u001b[43m,\u001b[49m\u001b[43m \u001b[49m\u001b[43mburn_reserve\u001b[49m\u001b[38;5;241;43m=\u001b[39;49m\u001b[43mburn_reserve\u001b[49m\u001b[43m,\u001b[49m\u001b[43m \u001b[49m\u001b[43mttl\u001b[49m\u001b[38;5;241;43m=\u001b[39;49m\u001b[43mttl\u001b[49m\u001b[43m)\u001b[49m\u001b[38;5;241m.\u001b[39msign()\n\u001b[1;32m    375\u001b[0m res \u001b[38;5;241m=\u001b[39m opg\u001b[38;5;241m.\u001b[39minject(min_confirmations\u001b[38;5;241m=\u001b[39mmin_confirmations, num_blocks_wait\u001b[38;5;241m=\u001b[39mttl)\n\u001b[1;32m    376\u001b[0m \u001b[38;5;28;01mreturn\u001b[39;00m opg\u001b[38;5;241m.\u001b[39m_spawn(opg_hash\u001b[38;5;241m=\u001b[39mres[\u001b[38;5;124m'\u001b[39m\u001b[38;5;124mhash\u001b[39m\u001b[38;5;124m'\u001b[39m], opg_result\u001b[38;5;241m=\u001b[39mres)\n",
      "File \u001b[0;32m~/.pyenv/versions/3.9.6/lib/python3.9/site-packages/pytezos/jupyter.py:90\u001b[0m, in \u001b[0;36minline_doc.<locals>.CustomReprDescriptor.__get__.<locals>.MethodWrapper.__call__\u001b[0;34m(self, *args, **kwargs)\u001b[0m\n\u001b[1;32m     88\u001b[0m     \u001b[38;5;28;01mreturn\u001b[39;00m method(\u001b[38;5;241m*\u001b[39margs, \u001b[38;5;241m*\u001b[39m\u001b[38;5;241m*\u001b[39mkwargs)\n\u001b[1;32m     89\u001b[0m \u001b[38;5;28;01melse\u001b[39;00m:\n\u001b[0;32m---> 90\u001b[0m     \u001b[38;5;28;01mreturn\u001b[39;00m \u001b[43mmethod\u001b[49m\u001b[43m(\u001b[49m\u001b[38;5;28;43mself\u001b[39;49m\u001b[38;5;241;43m.\u001b[39;49m\u001b[43mobj\u001b[49m\u001b[43m,\u001b[49m\u001b[43m \u001b[49m\u001b[38;5;241;43m*\u001b[39;49m\u001b[43margs\u001b[49m\u001b[43m,\u001b[49m\u001b[43m \u001b[49m\u001b[38;5;241;43m*\u001b[39;49m\u001b[38;5;241;43m*\u001b[39;49m\u001b[43mkwargs\u001b[49m\u001b[43m)\u001b[49m\n",
      "File \u001b[0;32m~/.pyenv/versions/3.9.6/lib/python3.9/site-packages/pytezos/operation/group.py:265\u001b[0m, in \u001b[0;36mOperationGroup.autofill\u001b[0;34m(self, gas_reserve, burn_reserve, counter, ttl, fee, gas_limit, storage_limit, **kwargs)\u001b[0m\n\u001b[1;32m    262\u001b[0m     ttl \u001b[38;5;241m=\u001b[39m MAX_OPERATIONS_TTL \u001b[38;5;241m-\u001b[39m kwargs[\u001b[38;5;124m'\u001b[39m\u001b[38;5;124mbranch_offset\u001b[39m\u001b[38;5;124m'\u001b[39m]\n\u001b[1;32m    264\u001b[0m opg \u001b[38;5;241m=\u001b[39m \u001b[38;5;28mself\u001b[39m\u001b[38;5;241m.\u001b[39mfill(counter\u001b[38;5;241m=\u001b[39mcounter, ttl\u001b[38;5;241m=\u001b[39mttl)\n\u001b[0;32m--> 265\u001b[0m opg_with_metadata \u001b[38;5;241m=\u001b[39m \u001b[43mopg\u001b[49m\u001b[38;5;241;43m.\u001b[39;49m\u001b[43mrun\u001b[49m\u001b[43m(\u001b[49m\u001b[43m)\u001b[49m\n\u001b[1;32m    266\u001b[0m \u001b[38;5;28;01mif\u001b[39;00m \u001b[38;5;129;01mnot\u001b[39;00m OperationResult\u001b[38;5;241m.\u001b[39mis_applied(opg_with_metadata):\n\u001b[1;32m    267\u001b[0m     \u001b[38;5;28;01mraise\u001b[39;00m RpcError\u001b[38;5;241m.\u001b[39mfrom_errors(OperationResult\u001b[38;5;241m.\u001b[39merrors(opg_with_metadata))\n",
      "File \u001b[0;32m~/.pyenv/versions/3.9.6/lib/python3.9/site-packages/pytezos/jupyter.py:90\u001b[0m, in \u001b[0;36minline_doc.<locals>.CustomReprDescriptor.__get__.<locals>.MethodWrapper.__call__\u001b[0;34m(self, *args, **kwargs)\u001b[0m\n\u001b[1;32m     88\u001b[0m     \u001b[38;5;28;01mreturn\u001b[39;00m method(\u001b[38;5;241m*\u001b[39margs, \u001b[38;5;241m*\u001b[39m\u001b[38;5;241m*\u001b[39mkwargs)\n\u001b[1;32m     89\u001b[0m \u001b[38;5;28;01melse\u001b[39;00m:\n\u001b[0;32m---> 90\u001b[0m     \u001b[38;5;28;01mreturn\u001b[39;00m \u001b[43mmethod\u001b[49m\u001b[43m(\u001b[49m\u001b[38;5;28;43mself\u001b[39;49m\u001b[38;5;241;43m.\u001b[39;49m\u001b[43mobj\u001b[49m\u001b[43m,\u001b[49m\u001b[43m \u001b[49m\u001b[38;5;241;43m*\u001b[39;49m\u001b[43margs\u001b[49m\u001b[43m,\u001b[49m\u001b[43m \u001b[49m\u001b[38;5;241;43m*\u001b[39;49m\u001b[38;5;241;43m*\u001b[39;49m\u001b[43mkwargs\u001b[49m\u001b[43m)\u001b[49m\n",
      "File \u001b[0;32m~/.pyenv/versions/3.9.6/lib/python3.9/site-packages/pytezos/operation/group.py:194\u001b[0m, in \u001b[0;36mOperationGroup.run\u001b[0;34m(self, block_id)\u001b[0m\n\u001b[1;32m    188\u001b[0m \u001b[38;5;28;01mdef\u001b[39;00m \u001b[38;5;21mrun\u001b[39m(\u001b[38;5;28mself\u001b[39m, block_id: \u001b[38;5;28mstr\u001b[39m \u001b[38;5;241m=\u001b[39m \u001b[38;5;124m'\u001b[39m\u001b[38;5;124mhead\u001b[39m\u001b[38;5;124m'\u001b[39m):\n\u001b[1;32m    189\u001b[0m     \u001b[38;5;124;03m\"\"\"Simulate operation without signature checks.\u001b[39;00m\n\u001b[1;32m    190\u001b[0m \n\u001b[1;32m    191\u001b[0m \u001b[38;5;124;03m    :param block_id: Specify a level at which this operation should be applied (default is head)\u001b[39;00m\n\u001b[1;32m    192\u001b[0m \u001b[38;5;124;03m    :returns: RPC response from `run_operation`\u001b[39;00m\n\u001b[1;32m    193\u001b[0m \u001b[38;5;124;03m    \"\"\"\u001b[39;00m\n\u001b[0;32m--> 194\u001b[0m     \u001b[38;5;28;01mreturn\u001b[39;00m \u001b[38;5;28;43mself\u001b[39;49m\u001b[38;5;241;43m.\u001b[39;49m\u001b[43mshell\u001b[49m\u001b[38;5;241;43m.\u001b[39;49m\u001b[43mblocks\u001b[49m\u001b[43m[\u001b[49m\u001b[43mblock_id\u001b[49m\u001b[43m]\u001b[49m\u001b[38;5;241;43m.\u001b[39;49m\u001b[43mhelpers\u001b[49m\u001b[38;5;241;43m.\u001b[39;49m\u001b[43mscripts\u001b[49m\u001b[38;5;241;43m.\u001b[39;49m\u001b[43mrun_operation\u001b[49m\u001b[38;5;241;43m.\u001b[39;49m\u001b[43mpost\u001b[49m\u001b[43m(\u001b[49m\n\u001b[1;32m    195\u001b[0m \u001b[43m        \u001b[49m\u001b[43m{\u001b[49m\n\u001b[1;32m    196\u001b[0m \u001b[43m            \u001b[49m\u001b[38;5;124;43m'\u001b[39;49m\u001b[38;5;124;43moperation\u001b[39;49m\u001b[38;5;124;43m'\u001b[39;49m\u001b[43m:\u001b[49m\u001b[43m \u001b[49m\u001b[43m{\u001b[49m\n\u001b[1;32m    197\u001b[0m \u001b[43m                \u001b[49m\u001b[38;5;124;43m'\u001b[39;49m\u001b[38;5;124;43mbranch\u001b[39;49m\u001b[38;5;124;43m'\u001b[39;49m\u001b[43m:\u001b[49m\u001b[43m \u001b[49m\u001b[38;5;28;43mself\u001b[39;49m\u001b[38;5;241;43m.\u001b[39;49m\u001b[43mbranch\u001b[49m\u001b[43m,\u001b[49m\n\u001b[1;32m    198\u001b[0m \u001b[43m                \u001b[49m\u001b[38;5;124;43m'\u001b[39;49m\u001b[38;5;124;43mcontents\u001b[39;49m\u001b[38;5;124;43m'\u001b[39;49m\u001b[43m:\u001b[49m\u001b[43m \u001b[49m\u001b[38;5;28;43mself\u001b[39;49m\u001b[38;5;241;43m.\u001b[39;49m\u001b[43mcontents\u001b[49m\u001b[43m,\u001b[49m\n\u001b[1;32m    199\u001b[0m \u001b[43m                \u001b[49m\u001b[38;5;124;43m'\u001b[39;49m\u001b[38;5;124;43msignature\u001b[39;49m\u001b[38;5;124;43m'\u001b[39;49m\u001b[43m:\u001b[49m\u001b[43m \u001b[49m\u001b[43mbase58_encode\u001b[49m\u001b[43m(\u001b[49m\u001b[38;5;124;43mb\u001b[39;49m\u001b[38;5;124;43m'\u001b[39;49m\u001b[38;5;124;43m0\u001b[39;49m\u001b[38;5;124;43m'\u001b[39;49m\u001b[43m \u001b[49m\u001b[38;5;241;43m*\u001b[39;49m\u001b[43m \u001b[49m\u001b[38;5;241;43m64\u001b[39;49m\u001b[43m,\u001b[49m\u001b[43m \u001b[49m\u001b[38;5;124;43mb\u001b[39;49m\u001b[38;5;124;43m'\u001b[39;49m\u001b[38;5;124;43msig\u001b[39;49m\u001b[38;5;124;43m'\u001b[39;49m\u001b[43m)\u001b[49m\u001b[38;5;241;43m.\u001b[39;49m\u001b[43mdecode\u001b[49m\u001b[43m(\u001b[49m\u001b[43m)\u001b[49m\u001b[43m,\u001b[49m\n\u001b[1;32m    200\u001b[0m \u001b[43m            \u001b[49m\u001b[43m}\u001b[49m\u001b[43m,\u001b[49m\n\u001b[1;32m    201\u001b[0m \u001b[43m            \u001b[49m\u001b[38;5;124;43m'\u001b[39;49m\u001b[38;5;124;43mchain_id\u001b[39;49m\u001b[38;5;124;43m'\u001b[39;49m\u001b[43m:\u001b[49m\u001b[43m \u001b[49m\u001b[38;5;28;43mself\u001b[39;49m\u001b[38;5;241;43m.\u001b[39;49m\u001b[43mchain_id\u001b[49m\u001b[43m,\u001b[49m\n\u001b[1;32m    202\u001b[0m \u001b[43m        \u001b[49m\u001b[43m}\u001b[49m\n\u001b[1;32m    203\u001b[0m \u001b[43m    \u001b[49m\u001b[43m)\u001b[49m\n",
      "File \u001b[0;32m~/.pyenv/versions/3.9.6/lib/python3.9/site-packages/pytezos/jupyter.py:90\u001b[0m, in \u001b[0;36minline_doc.<locals>.CustomReprDescriptor.__get__.<locals>.MethodWrapper.__call__\u001b[0;34m(self, *args, **kwargs)\u001b[0m\n\u001b[1;32m     88\u001b[0m     \u001b[38;5;28;01mreturn\u001b[39;00m method(\u001b[38;5;241m*\u001b[39margs, \u001b[38;5;241m*\u001b[39m\u001b[38;5;241m*\u001b[39mkwargs)\n\u001b[1;32m     89\u001b[0m \u001b[38;5;28;01melse\u001b[39;00m:\n\u001b[0;32m---> 90\u001b[0m     \u001b[38;5;28;01mreturn\u001b[39;00m \u001b[43mmethod\u001b[49m\u001b[43m(\u001b[49m\u001b[38;5;28;43mself\u001b[39;49m\u001b[38;5;241;43m.\u001b[39;49m\u001b[43mobj\u001b[49m\u001b[43m,\u001b[49m\u001b[43m \u001b[49m\u001b[38;5;241;43m*\u001b[39;49m\u001b[43margs\u001b[49m\u001b[43m,\u001b[49m\u001b[43m \u001b[49m\u001b[38;5;241;43m*\u001b[39;49m\u001b[38;5;241;43m*\u001b[39;49m\u001b[43mkwargs\u001b[49m\u001b[43m)\u001b[49m\n",
      "File \u001b[0;32m~/.pyenv/versions/3.9.6/lib/python3.9/site-packages/pytezos/rpc/helpers.py:320\u001b[0m, in \u001b[0;36mScriptsRunOperationQuery.post\u001b[0;34m(self, operation)\u001b[0m\n\u001b[1;32m    304\u001b[0m \u001b[38;5;28;01mdef\u001b[39;00m \u001b[38;5;21mpost\u001b[39m(\u001b[38;5;28mself\u001b[39m, operation):\n\u001b[1;32m    305\u001b[0m     \u001b[38;5;124;03m\"\"\"Run an operation without signature checks.\u001b[39;00m\n\u001b[1;32m    306\u001b[0m \n\u001b[1;32m    307\u001b[0m \u001b[38;5;124;03m    operation format:\u001b[39;00m\n\u001b[0;32m   (...)\u001b[0m\n\u001b[1;32m    318\u001b[0m \u001b[38;5;124;03m    :returns: JSON object (operation with metadata)\u001b[39;00m\n\u001b[1;32m    319\u001b[0m \u001b[38;5;124;03m    \"\"\"\u001b[39;00m\n\u001b[0;32m--> 320\u001b[0m     \u001b[38;5;28;01mreturn\u001b[39;00m \u001b[38;5;28;43mself\u001b[39;49m\u001b[38;5;241;43m.\u001b[39;49m\u001b[43m_post\u001b[49m\u001b[43m(\u001b[49m\u001b[43mjson\u001b[49m\u001b[38;5;241;43m=\u001b[39;49m\u001b[43moperation\u001b[49m\u001b[43m)\u001b[49m\n",
      "File \u001b[0;32m~/.pyenv/versions/3.9.6/lib/python3.9/site-packages/pytezos/rpc/query.py:131\u001b[0m, in \u001b[0;36mRpcQuery._post\u001b[0;34m(self, json, params)\u001b[0m\n\u001b[1;32m    130\u001b[0m \u001b[38;5;28;01mdef\u001b[39;00m \u001b[38;5;21m_post\u001b[39m(\u001b[38;5;28mself\u001b[39m, json\u001b[38;5;241m=\u001b[39m\u001b[38;5;28;01mNone\u001b[39;00m, params\u001b[38;5;241m=\u001b[39m\u001b[38;5;28;01mNone\u001b[39;00m):\n\u001b[0;32m--> 131\u001b[0m     \u001b[38;5;28;01mreturn\u001b[39;00m \u001b[38;5;28;43mself\u001b[39;49m\u001b[38;5;241;43m.\u001b[39;49m\u001b[43mnode\u001b[49m\u001b[38;5;241;43m.\u001b[39;49m\u001b[43mpost\u001b[49m\u001b[43m(\u001b[49m\n\u001b[1;32m    132\u001b[0m \u001b[43m        \u001b[49m\u001b[43mpath\u001b[49m\u001b[38;5;241;43m=\u001b[39;49m\u001b[38;5;28;43mself\u001b[39;49m\u001b[38;5;241;43m.\u001b[39;49m\u001b[43mpath\u001b[49m\u001b[43m,\u001b[49m\n\u001b[1;32m    133\u001b[0m \u001b[43m        \u001b[49m\u001b[43mparams\u001b[49m\u001b[38;5;241;43m=\u001b[39;49m\u001b[43mparams\u001b[49m\u001b[43m,\u001b[49m\n\u001b[1;32m    134\u001b[0m \u001b[43m        \u001b[49m\u001b[43mjson\u001b[49m\u001b[38;5;241;43m=\u001b[39;49m\u001b[43mjson\u001b[49m\u001b[43m,\u001b[49m\n\u001b[1;32m    135\u001b[0m \u001b[43m    \u001b[49m\u001b[43m)\u001b[49m\n",
      "File \u001b[0;32m~/.pyenv/versions/3.9.6/lib/python3.9/site-packages/pytezos/rpc/node.py:131\u001b[0m, in \u001b[0;36mRpcNode.post\u001b[0;34m(self, path, params, json)\u001b[0m\n\u001b[1;32m    130\u001b[0m \u001b[38;5;28;01mdef\u001b[39;00m \u001b[38;5;21mpost\u001b[39m(\u001b[38;5;28mself\u001b[39m, path: \u001b[38;5;28mstr\u001b[39m, params: Optional[Dict[\u001b[38;5;28mstr\u001b[39m, Any]] \u001b[38;5;241m=\u001b[39m \u001b[38;5;28;01mNone\u001b[39;00m, json\u001b[38;5;241m=\u001b[39m\u001b[38;5;28;01mNone\u001b[39;00m) \u001b[38;5;241m-\u001b[39m\u001b[38;5;241m>\u001b[39m Union[requests\u001b[38;5;241m.\u001b[39mResponse, \u001b[38;5;28mstr\u001b[39m]:\n\u001b[0;32m--> 131\u001b[0m     response \u001b[38;5;241m=\u001b[39m \u001b[38;5;28;43mself\u001b[39;49m\u001b[38;5;241;43m.\u001b[39;49m\u001b[43mrequest\u001b[49m\u001b[43m(\u001b[49m\u001b[38;5;124;43m'\u001b[39;49m\u001b[38;5;124;43mPOST\u001b[39;49m\u001b[38;5;124;43m'\u001b[39;49m\u001b[43m,\u001b[49m\u001b[43m \u001b[49m\u001b[43mpath\u001b[49m\u001b[43m,\u001b[49m\u001b[43m \u001b[49m\u001b[43mparams\u001b[49m\u001b[38;5;241;43m=\u001b[39;49m\u001b[43mparams\u001b[49m\u001b[43m,\u001b[49m\u001b[43m \u001b[49m\u001b[43mjson\u001b[49m\u001b[38;5;241;43m=\u001b[39;49m\u001b[43mjson\u001b[49m\u001b[43m)\u001b[49m\n\u001b[1;32m    132\u001b[0m     \u001b[38;5;28;01mtry\u001b[39;00m:\n\u001b[1;32m    133\u001b[0m         \u001b[38;5;28;01mreturn\u001b[39;00m response\u001b[38;5;241m.\u001b[39mjson()\n",
      "File \u001b[0;32m~/.pyenv/versions/3.9.6/lib/python3.9/site-packages/pytezos/rpc/node.py:117\u001b[0m, in \u001b[0;36mRpcNode.request\u001b[0;34m(self, method, path, **kwargs)\u001b[0m\n\u001b[1;32m    115\u001b[0m \u001b[38;5;28;01mif\u001b[39;00m res\u001b[38;5;241m.\u001b[39mstatus_code \u001b[38;5;241m!=\u001b[39m \u001b[38;5;241m200\u001b[39m:\n\u001b[1;32m    116\u001b[0m     logger\u001b[38;5;241m.\u001b[39mdebug(\u001b[38;5;124m'\u001b[39m\u001b[38;5;124m<<<<< \u001b[39m\u001b[38;5;132;01m%s\u001b[39;00m\u001b[38;5;130;01m\\n\u001b[39;00m\u001b[38;5;132;01m%s\u001b[39;00m\u001b[38;5;124m'\u001b[39m, res\u001b[38;5;241m.\u001b[39mstatus_code, pformat(res\u001b[38;5;241m.\u001b[39mtext, indent\u001b[38;5;241m=\u001b[39m\u001b[38;5;241m4\u001b[39m))\n\u001b[0;32m--> 117\u001b[0m     \u001b[38;5;28;01mraise\u001b[39;00m RpcError\u001b[38;5;241m.\u001b[39mfrom_response(res)\n\u001b[1;32m    119\u001b[0m logger\u001b[38;5;241m.\u001b[39mdebug(\u001b[38;5;124m'\u001b[39m\u001b[38;5;124m<<<<< \u001b[39m\u001b[38;5;132;01m%s\u001b[39;00m\u001b[38;5;130;01m\\n\u001b[39;00m\u001b[38;5;132;01m%s\u001b[39;00m\u001b[38;5;124m'\u001b[39m, res\u001b[38;5;241m.\u001b[39mstatus_code, json\u001b[38;5;241m.\u001b[39mdumps(res\u001b[38;5;241m.\u001b[39mjson(), indent\u001b[38;5;241m=\u001b[39m\u001b[38;5;241m4\u001b[39m))\n\u001b[1;32m    120\u001b[0m \u001b[38;5;28;01mreturn\u001b[39;00m res\n",
      "\u001b[0;31mRpcError\u001b[0m: ('[{\"kind\":\"temporary\",\"id\":\"contract.unrevealed_key\",\"contract\":\"tz1VSUr8wwNhLAzempoch5d6hLRiTh8Cjcjb\"}]',)"
     ]
    }
   ],
   "source": [
    "pytezos.transaction(destination='tz1N2386URdGRJDbMuEEn757Y5HBPg5XwtmQ', amount=100000000).send(ttl=119)"
   ]
  },
  {
   "cell_type": "code",
   "execution_count": 33,
   "id": "fab64026",
   "metadata": {},
   "outputs": [
    {
     "data": {
      "text/plain": [
       "{'balance': '100000000', 'counter': '0'}"
      ]
     },
     "execution_count": 33,
     "metadata": {},
     "output_type": "execute_result"
    }
   ],
   "source": [
    "pytezos.shell.contracts['tz1N2386URdGRJDbMuEEn757Y5HBPg5XwtmQ']()"
   ]
  },
  {
   "cell_type": "code",
   "execution_count": 34,
   "id": "a373e060",
   "metadata": {},
   "outputs": [],
   "source": [
    "from pytezos import ContractInterface"
   ]
  },
  {
   "cell_type": "code",
   "execution_count": 35,
   "id": "91bad637",
   "metadata": {},
   "outputs": [],
   "source": [
    "ci = ContractInterface.from_michelson(\"\"\"\n",
    "parameter unit;\n",
    "storage unit;\n",
    "code { FAILWITH }\n",
    "\"\"\")"
   ]
  },
  {
   "cell_type": "code",
   "execution_count": 37,
   "id": "14e50bed",
   "metadata": {},
   "outputs": [
    {
     "data": {
      "text/plain": [
       "<pytezos.operation.group.OperationGroup object at 0x7f2e88cf1a90>\n",
       "\n",
       "Properties\n",
       ".key\t\ttz1VSUr8wwNhLAzempoch5d6hLRiTh8Cjcjb\n",
       ".shell\t\t['https://tot-facade-monday.zaun.baking-bad.org/']\n",
       ".block_id\thead\n",
       "\n",
       "Payload\n",
       "{'branch': 'BLpskP5qrN7z88m7nFmxv5xqLoxJetvzS2yLUy7FHTwLyYGwdZM',\n",
       " 'contents': [{'balance': '0',\n",
       "               'counter': '3',\n",
       "               'fee': '278',\n",
       "               'gas_limit': '100',\n",
       "               'kind': 'origination',\n",
       "               'script': {'code': [{'args': [{'prim': 'unit'}],\n",
       "                                    'prim': 'parameter'},\n",
       "                                   {'args': [{'prim': 'unit'}],\n",
       "                                    'prim': 'storage'},\n",
       "                                   {'args': [[{'prim': 'FAILWITH'}]],\n",
       "                                    'prim': 'code'}],\n",
       "                          'storage': {'prim': 'Unit'}},\n",
       "               'source': 'tz1VSUr8wwNhLAzempoch5d6hLRiTh8Cjcjb',\n",
       "               'storage_limit': '357'}],\n",
       " 'protocol': 'ProtoALphaALphaALphaALphaALphaALphaALphaALphaDdp3zK',\n",
       " 'signature': 'sigp31ZT69SUuYef116KCoCEEjC7W2JNhVLQi65DfcD33w4d5VNZBPW6YMMJMN92wUoc8GPxre8zjeNJUuj1S6euxrpfXGn3'}\n",
       "\n",
       "Helpers\n",
       ".activate_account()\n",
       ".autofill()\n",
       ".ballot()\n",
       ".binary_payload()\n",
       ".delegation()\n",
       ".double_baking_evidence()\n",
       ".double_endorsement_evidence()\n",
       ".endorsement()\n",
       ".endorsement_with_slot()\n",
       ".failing_noop()\n",
       ".fill()\n",
       ".forge()\n",
       ".hash()\n",
       ".inject()\n",
       ".json_payload()\n",
       ".message()\n",
       ".operation()\n",
       ".origination()\n",
       ".preapply()\n",
       ".proposals()\n",
       ".register_global_constant()\n",
       ".result()\n",
       ".reveal()\n",
       ".run()\n",
       ".run_operation()\n",
       ".seed_nonce_revelation()\n",
       ".send()\n",
       ".send_async()\n",
       ".sign()\n",
       ".transaction()"
      ]
     },
     "execution_count": 37,
     "metadata": {},
     "output_type": "execute_result"
    }
   ],
   "source": [
    "pytezos.origination(script=ci.script()).send(ttl=119)"
   ]
  },
  {
   "cell_type": "code",
   "execution_count": 38,
   "id": "870ab6bd",
   "metadata": {},
   "outputs": [],
   "source": [
    "c = pytezos.contract('KT1L6hQvinkuntS9Z4LxhC9WUW3jcU3cedvJ')"
   ]
  },
  {
   "cell_type": "code",
   "execution_count": 45,
   "id": "a7996032",
   "metadata": {},
   "outputs": [
    {
     "data": {
      "text/plain": [
       "{'chain_id': 'NetXJMQH91NnLbq',\n",
       " 'hash': 'ootHxJxvFYzyE8fen3JTKCbaxydWiZNn7vutFRUQa66puFsX9Hj',\n",
       " 'protocol': 'ProtoALphaALphaALphaALphaALphaALphaALphaALphaDdp3zK',\n",
       " 'branch': 'BLF2iWkbUxXFxG7AkwVyt7J3gH8phXJPUsFpnDQx1QqukzJyBZp',\n",
       " 'contents': [{'kind': 'transaction',\n",
       "   'source': 'tz1VSUr8wwNhLAzempoch5d6hLRiTh8Cjcjb',\n",
       "   'fee': '104269',\n",
       "   'counter': '4',\n",
       "   'gas_limit': '1040000',\n",
       "   'storage_limit': '60000',\n",
       "   'amount': '0',\n",
       "   'destination': 'KT1L6hQvinkuntS9Z4LxhC9WUW3jcU3cedvJ',\n",
       "   'parameters': {'entrypoint': 'default', 'value': {'prim': 'Unit'}}}],\n",
       " 'signature': 'sigUNB5shwGJzbnVwZgXf9fYtGQgDLyJsrEep6S1o3WRNFJPQpdQWF7rRphrEMNt22dKah3HBtA6bpJM3n5D22zrEvDhwVHP'}"
      ]
     },
     "execution_count": 45,
     "metadata": {},
     "output_type": "execute_result"
    }
   ],
   "source": [
    "c.default().as_transaction().fill(ttl=119).sign().inject()"
   ]
  },
  {
   "cell_type": "code",
   "execution_count": null,
   "id": "5656eeab",
   "metadata": {},
   "outputs": [],
   "source": []
  }
 ],
 "metadata": {
  "kernelspec": {
   "display_name": "Python 3 (ipykernel)",
   "language": "python",
   "name": "python3"
  },
  "language_info": {
   "codemirror_mode": {
    "name": "ipython",
    "version": 3
   },
   "file_extension": ".py",
   "mimetype": "text/x-python",
   "name": "python",
   "nbconvert_exporter": "python",
   "pygments_lexer": "ipython3",
   "version": "3.9.6"
  }
 },
 "nbformat": 4,
 "nbformat_minor": 5
}
